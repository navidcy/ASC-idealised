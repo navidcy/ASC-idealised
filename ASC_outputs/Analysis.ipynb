{
 "cells": [
  {
   "cell_type": "code",
   "execution_count": null,
   "id": "742e6233-233f-4796-92a2-fc4143d08a42",
   "metadata": {},
   "outputs": [],
   "source": [
    "using Pkg; Pkg.activate(\"../.\")"
   ]
  },
  {
   "cell_type": "code",
   "execution_count": null,
   "id": "3f4ae96a-cbd0-4e44-8e89-eee72ca8f115",
   "metadata": {},
   "outputs": [],
   "source": [
    "using JLD2, CairoMakie, Oceananigans"
   ]
  },
  {
   "cell_type": "code",
   "execution_count": null,
   "id": "2b182224-ab07-4d74-ae87-85c42eaa126a",
   "metadata": {},
   "outputs": [],
   "source": [
    "file = jldopen(\"asc_channel_east_slice.jld2\")"
   ]
  },
  {
   "cell_type": "markdown",
   "id": "739847c6-a014-402c-8639-807192a2c86d",
   "metadata": {},
   "source": [
    "We load the \"serialized\" version of the grid from the output file. This returns an Oceananigans grid."
   ]
  },
  {
   "cell_type": "code",
   "execution_count": null,
   "id": "f6ef52ae-293e-4d32-9034-24eae29fc1e7",
   "metadata": {},
   "outputs": [],
   "source": [
    "grid = file[\"serialized/grid\"]"
   ]
  },
  {
   "cell_type": "code",
   "execution_count": null,
   "id": "aef093d1-e22e-44e8-84c7-46276ee6da75",
   "metadata": {},
   "outputs": [],
   "source": [
    "xc, yc, zc = nodes((Center, Center, Center), grid);"
   ]
  },
  {
   "cell_type": "code",
   "execution_count": null,
   "id": "43834baa-2563-43b0-9173-e55df7d6743d",
   "metadata": {},
   "outputs": [],
   "source": [
    "fig, ax, hm = heatmap(yc / 1e3, zc / 1e3, file[\"timeseries/b/0\"][1, :, :])\n",
    "Colorbar(fig[1, 2], hm, label=\"buoyancy [m s⁻²]\")\n",
    "ax.xlabel = \"longitude [km]\"\n",
    "ax.ylabel = \"depth [m]\"\n",
    "fig"
   ]
  },
  {
   "cell_type": "code",
   "execution_count": null,
   "id": "e4de236f-5c8c-4a46-a3fc-17da36d3f314",
   "metadata": {},
   "outputs": [],
   "source": []
  }
 ],
 "metadata": {
  "kernelspec": {
   "display_name": "Julia 1.7.1",
   "language": "julia",
   "name": "julia-1.7"
  },
  "language_info": {
   "file_extension": ".jl",
   "mimetype": "application/julia",
   "name": "julia",
   "version": "1.7.1"
  }
 },
 "nbformat": 4,
 "nbformat_minor": 5
}

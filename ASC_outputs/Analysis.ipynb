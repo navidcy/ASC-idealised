{
 "cells": [
  {
   "cell_type": "code",
   "execution_count": 15,
   "id": "3f4ae96a-cbd0-4e44-8e89-eee72ca8f115",
   "metadata": {},
   "outputs": [
    {
     "name": "stderr",
     "output_type": "stream",
     "text": [
      "┌ Warning: You appear to be using MPI.jl with the default MPI binary on a cluster.\n",
      "│ We recommend using the system-provided MPI, see the Configuration section of the MPI.jl docs.\n",
      "└ @ MPI /home/156/txs156/.julia/packages/MPI/08SPr/deps/deps.jl:15\n"
     ]
    }
   ],
   "source": [
    "using JLD2\n",
    "using CairoMakie\n",
    "using Oceananigans"
   ]
  },
  {
   "cell_type": "code",
   "execution_count": 16,
   "id": "2b182224-ab07-4d74-ae87-85c42eaa126a",
   "metadata": {},
   "outputs": [
    {
     "data": {
      "text/plain": [
       "JLDFile /g/data/hh5/tmp/txs156/ASC-idealised/ASC_outputs/asc_channel_east_slice.jld2 (read-only)\n",
       " ├─📂 grid\n",
       " │  ├─📂 underlying_grid\n",
       " │  │  ├─🔢 Nx\n",
       " │  │  ├─🔢 Ny\n",
       " │  │  ├─🔢 Nz\n",
       " │  │  ├─🔢 Hx\n",
       " │  │  ├─🔢 Hy\n",
       " │  │  └─ ⋯ (16 more entries)\n",
       " │  └─📂 immersed_boundary (1 entry)\n",
       " └─ ⋯ (4 more entries)"
      ]
     },
     "execution_count": 16,
     "metadata": {},
     "output_type": "execute_result"
    }
   ],
   "source": [
    "file_output = jldopen(\"asc_channel_east_slice.jld2\")"
   ]
  },
  {
   "cell_type": "code",
   "execution_count": 23,
   "id": "ec42f9b8-9443-46a2-9fc7-b4bd2b0f8493",
   "metadata": {},
   "outputs": [
    {
     "data": {
      "text/plain": [
       "128×128×16 RectilinearGrid{Float64, Periodic, Bounded, Bounded} on CPU with 3×3×3 halo\n",
       "├── Periodic x ∈ [-500000.0, 500000.0) regularly spaced with Δx=7812.5\n",
       "├── Bounded  y ∈ [-500000.0, 500000.0] regularly spaced with Δy=7812.5\n",
       "└── Bounded  z ∈ [-3000.0, 0.0]        regularly spaced with Δz=187.5"
      ]
     },
     "execution_count": 23,
     "metadata": {},
     "output_type": "execute_result"
    }
   ],
   "source": [
    "using Oceananigans.Units\n",
    "\n",
    "grid = RectilinearGrid(CPU(),\n",
    "                       topology = (Periodic, Bounded, Bounded), \n",
    "                       size = (128, 128, 16),\n",
    "                       x = (-500kilometers, 500kilometers),\n",
    "                       y = (-500kilometers, 500kilometers),\n",
    "                       z = (-3kilometers, 0),\n",
    "                       halo = (3, 3, 3))\n"
   ]
  },
  {
   "cell_type": "code",
   "execution_count": 24,
   "id": "aef093d1-e22e-44e8-84c7-46276ee6da75",
   "metadata": {},
   "outputs": [
    {
     "data": {
      "text/plain": [
       "([-496093.75, -488281.25, -480468.75, -472656.25, -464843.75, -457031.25, -449218.75, -441406.25, -433593.75, -425781.25  …  425781.25, 433593.75, 441406.25, 449218.75, 457031.25, 464843.75, 472656.25, 480468.75, 488281.25, 496093.75], [-496093.75, -488281.25, -480468.75, -472656.25, -464843.75, -457031.25, -449218.75, -441406.25, -433593.75, -425781.25  …  425781.25, 433593.75, 441406.25, 449218.75, 457031.25, 464843.75, 472656.25, 480468.75, 488281.25, 496093.75], [-2906.25, -2718.75, -2531.25, -2343.75, -2156.25, -1968.75, -1781.25, -1593.75, -1406.25, -1218.75, -1031.25, -843.75, -656.25, -468.75, -281.25, -93.75])"
      ]
     },
     "execution_count": 24,
     "metadata": {},
     "output_type": "execute_result"
    }
   ],
   "source": [
    "xc, yc, zc = nodes((Center, Center, Center), grid);"
   ]
  },
  {
   "cell_type": "code",
   "execution_count": 32,
   "id": "43834baa-2563-43b0-9173-e55df7d6743d",
   "metadata": {},
   "outputs": [
    {
     "ename": "LoadError",
     "evalue": "PlotMethodError: no \u001b[36mplot\u001b[39m method for arguments \u001b[36m(::Makie.FigureAxisPlot)\u001b[39m. To support these arguments, define\n  \u001b[36mplot!(::Combined{Any, S} where S<:Tuple{Makie.FigureAxisPlot})\u001b[39m\nAvailable methods are:\n  plot!(plot::Combined{Any, <:Tuple{AbstractVector{<:Complex}}}) in Makie at /home/156/txs156/.julia/packages/Makie/bwZTV/src/basic_recipes/convenience_functions.jl:1\n",
     "output_type": "error",
     "traceback": [
      "PlotMethodError: no \u001b[36mplot\u001b[39m method for arguments \u001b[36m(::Makie.FigureAxisPlot)\u001b[39m. To support these arguments, define\n  \u001b[36mplot!(::Combined{Any, S} where S<:Tuple{Makie.FigureAxisPlot})\u001b[39m\nAvailable methods are:\n  plot!(plot::Combined{Any, <:Tuple{AbstractVector{<:Complex}}}) in Makie at /home/156/txs156/.julia/packages/Makie/bwZTV/src/basic_recipes/convenience_functions.jl:1\n",
      "",
      "Stacktrace:",
      "  [1] _plot!(p::Combined{Any, Tuple{Makie.FigureAxisPlot}})",
      "    @ Makie ~/.julia/packages/Makie/bwZTV/src/interfaces.jl:328",
      "  [2] plot!(p::Combined{Any, Tuple{Makie.FigureAxisPlot}})",
      "    @ Makie ~/.julia/packages/Makie/bwZTV/src/interfaces.jl:323",
      "  [3] plot!(scene::Scene, P::Type{Combined{Any, Tuple{Makie.FigureAxisPlot}}}, attributes::Attributes, input::Tuple{Observable{Makie.FigureAxisPlot}}, args::Observable{Tuple{Makie.FigureAxisPlot}})",
      "    @ Makie ~/.julia/packages/Makie/bwZTV/src/interfaces.jl:402",
      "  [4] plot!(scene::Scene, P::Type{Any}, attributes::Attributes, args::Makie.FigureAxisPlot; kw_attributes::Base.Pairs{Symbol, Union{}, Tuple{}, NamedTuple{(), Tuple{}}})",
      "    @ Makie ~/.julia/packages/Makie/bwZTV/src/interfaces.jl:320",
      "  [5] plot!(scene::Scene, P::Type{Any}, attributes::Attributes, args::Makie.FigureAxisPlot)",
      "    @ Makie ~/.julia/packages/Makie/bwZTV/src/interfaces.jl:288",
      "  [6] plot(P::Type{Any}, args::Makie.FigureAxisPlot; axis::NamedTuple{(), Tuple{}}, figure::NamedTuple{(), Tuple{}}, kw_attributes::Base.Pairs{Symbol, Union{}, Tuple{}, NamedTuple{(), Tuple{}}})",
      "    @ Makie ~/.julia/packages/Makie/bwZTV/src/figureplotting.jl:28",
      "  [7] plot(P::Type{Any}, args::Makie.FigureAxisPlot)",
      "    @ Makie ~/.julia/packages/Makie/bwZTV/src/figureplotting.jl:16",
      "  [8] plot(args::Makie.FigureAxisPlot; attributes::Base.Pairs{Symbol, Union{}, Tuple{}, NamedTuple{(), Tuple{}}})",
      "    @ MakieCore ~/.julia/packages/MakieCore/YlbA1/src/recipes.jl:34",
      "  [9] plot(args::Makie.FigureAxisPlot)",
      "    @ MakieCore ~/.julia/packages/MakieCore/YlbA1/src/recipes.jl:34",
      " [10] top-level scope",
      "    @ In[32]:1",
      " [11] eval",
      "    @ ./boot.jl:373 [inlined]",
      " [12] include_string(mapexpr::typeof(REPL.softscope), mod::Module, code::String, filename::String)",
      "    @ Base ./loading.jl:1196"
     ]
    }
   ],
   "source": [
    "plot(heatmap(yc, zc, file_output[\"timeseries/b/0\"][1,:,:]))\n"
   ]
  },
  {
   "cell_type": "code",
   "execution_count": null,
   "id": "f96c87d9-5329-4ee2-a7ab-ae790a50a4a3",
   "metadata": {},
   "outputs": [],
   "source": []
  }
 ],
 "metadata": {
  "kernelspec": {
   "display_name": "Julia 1.7.1",
   "language": "julia",
   "name": "julia-1.7"
  },
  "language_info": {
   "file_extension": ".jl",
   "mimetype": "application/julia",
   "name": "julia",
   "version": "1.7.1"
  }
 },
 "nbformat": 4,
 "nbformat_minor": 5
}
